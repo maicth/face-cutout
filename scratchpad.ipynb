{
 "cells": [
  {
   "cell_type": "code",
   "execution_count": 8,
   "metadata": {},
   "outputs": [
    {
     "name": "stderr",
     "output_type": "stream",
     "text": [
      "Matplotlib is building the font cache; this may take a moment.\n"
     ]
    }
   ],
   "source": [
    "import numpy as np\n",
    "import pandas as pd\n",
    "import cv2\n",
    "import os\n",
    "import matplotlib.pyplot as plt"
   ]
  },
  {
   "cell_type": "code",
   "execution_count": 4,
   "metadata": {},
   "outputs": [],
   "source": [
    "ROOT_DIR = \"train_data\""
   ]
  },
  {
   "cell_type": "code",
   "execution_count": 72,
   "metadata": {},
   "outputs": [
    {
     "data": {
      "text/plain": [
       "52"
      ]
     },
     "execution_count": 72,
     "metadata": {},
     "output_type": "execute_result"
    }
   ],
   "source": [
    "fakes = os.listdir(\"train_data/celebdf/face_crops/id0_id1_0009\")\n",
    "len(fakes)"
   ]
  },
  {
   "cell_type": "code",
   "execution_count": 66,
   "metadata": {},
   "outputs": [
    {
     "name": "stdout",
     "output_type": "stream",
     "text": [
      "0\n"
     ]
    }
   ],
   "source": [
    "data = []\n",
    "print(len(data))"
   ]
  },
  {
   "cell_type": "code",
   "execution_count": 73,
   "metadata": {},
   "outputs": [
    {
     "name": "stdout",
     "output_type": "stream",
     "text": [
      "187\n"
     ]
    }
   ],
   "source": [
    "\n",
    "for f in fakes:\n",
    "    data.append({\n",
    "        \"video\" : \"id0_id1_0009\",\n",
    "        \"file\" : f, \n",
    "        \"label\" : 1, \n",
    "        \"original\" : \"id0_0009\",\n",
    "        \"frame\" : f.split('_')[0],\n",
    "        \"fold\" : -1,\n",
    "        \"dataset\" : \"celebdf\",\n",
    "    })\n",
    "print(len(data))"
   ]
  },
  {
   "cell_type": "code",
   "execution_count": 74,
   "metadata": {},
   "outputs": [
    {
     "data": {
      "text/html": [
       "<div>\n",
       "<style scoped>\n",
       "    .dataframe tbody tr th:only-of-type {\n",
       "        vertical-align: middle;\n",
       "    }\n",
       "\n",
       "    .dataframe tbody tr th {\n",
       "        vertical-align: top;\n",
       "    }\n",
       "\n",
       "    .dataframe thead th {\n",
       "        text-align: right;\n",
       "    }\n",
       "</style>\n",
       "<table border=\"1\" class=\"dataframe\">\n",
       "  <thead>\n",
       "    <tr style=\"text-align: right;\">\n",
       "      <th></th>\n",
       "      <th>video</th>\n",
       "      <th>file</th>\n",
       "      <th>label</th>\n",
       "      <th>original</th>\n",
       "      <th>frame</th>\n",
       "      <th>fold</th>\n",
       "      <th>dataset</th>\n",
       "    </tr>\n",
       "  </thead>\n",
       "  <tbody>\n",
       "    <tr>\n",
       "      <th>0</th>\n",
       "      <td>00000</td>\n",
       "      <td>0_0.png</td>\n",
       "      <td>0</td>\n",
       "      <td>00000</td>\n",
       "      <td>0</td>\n",
       "      <td>-1</td>\n",
       "      <td>celebdf</td>\n",
       "    </tr>\n",
       "    <tr>\n",
       "      <th>1</th>\n",
       "      <td>00000</td>\n",
       "      <td>100_0.png</td>\n",
       "      <td>0</td>\n",
       "      <td>00000</td>\n",
       "      <td>100</td>\n",
       "      <td>-1</td>\n",
       "      <td>celebdf</td>\n",
       "    </tr>\n",
       "    <tr>\n",
       "      <th>2</th>\n",
       "      <td>00000</td>\n",
       "      <td>10_0.png</td>\n",
       "      <td>0</td>\n",
       "      <td>00000</td>\n",
       "      <td>10</td>\n",
       "      <td>-1</td>\n",
       "      <td>celebdf</td>\n",
       "    </tr>\n",
       "    <tr>\n",
       "      <th>3</th>\n",
       "      <td>00000</td>\n",
       "      <td>110_0.png</td>\n",
       "      <td>0</td>\n",
       "      <td>00000</td>\n",
       "      <td>110</td>\n",
       "      <td>-1</td>\n",
       "      <td>celebdf</td>\n",
       "    </tr>\n",
       "    <tr>\n",
       "      <th>4</th>\n",
       "      <td>00000</td>\n",
       "      <td>120_0.png</td>\n",
       "      <td>0</td>\n",
       "      <td>00000</td>\n",
       "      <td>120</td>\n",
       "      <td>-1</td>\n",
       "      <td>celebdf</td>\n",
       "    </tr>\n",
       "    <tr>\n",
       "      <th>...</th>\n",
       "      <td>...</td>\n",
       "      <td>...</td>\n",
       "      <td>...</td>\n",
       "      <td>...</td>\n",
       "      <td>...</td>\n",
       "      <td>...</td>\n",
       "      <td>...</td>\n",
       "    </tr>\n",
       "    <tr>\n",
       "      <th>182</th>\n",
       "      <td>id0_id1_0009</td>\n",
       "      <td>510_0.png</td>\n",
       "      <td>1</td>\n",
       "      <td>id0_0009</td>\n",
       "      <td>510</td>\n",
       "      <td>-1</td>\n",
       "      <td>celebdf</td>\n",
       "    </tr>\n",
       "    <tr>\n",
       "      <th>183</th>\n",
       "      <td>id0_id1_0009</td>\n",
       "      <td>60_0.png</td>\n",
       "      <td>1</td>\n",
       "      <td>id0_0009</td>\n",
       "      <td>60</td>\n",
       "      <td>-1</td>\n",
       "      <td>celebdf</td>\n",
       "    </tr>\n",
       "    <tr>\n",
       "      <th>184</th>\n",
       "      <td>id0_id1_0009</td>\n",
       "      <td>70_0.png</td>\n",
       "      <td>1</td>\n",
       "      <td>id0_0009</td>\n",
       "      <td>70</td>\n",
       "      <td>-1</td>\n",
       "      <td>celebdf</td>\n",
       "    </tr>\n",
       "    <tr>\n",
       "      <th>185</th>\n",
       "      <td>id0_id1_0009</td>\n",
       "      <td>80_0.png</td>\n",
       "      <td>1</td>\n",
       "      <td>id0_0009</td>\n",
       "      <td>80</td>\n",
       "      <td>-1</td>\n",
       "      <td>celebdf</td>\n",
       "    </tr>\n",
       "    <tr>\n",
       "      <th>186</th>\n",
       "      <td>id0_id1_0009</td>\n",
       "      <td>90_0.png</td>\n",
       "      <td>1</td>\n",
       "      <td>id0_0009</td>\n",
       "      <td>90</td>\n",
       "      <td>-1</td>\n",
       "      <td>celebdf</td>\n",
       "    </tr>\n",
       "  </tbody>\n",
       "</table>\n",
       "<p>187 rows × 7 columns</p>\n",
       "</div>"
      ],
      "text/plain": [
       "            video       file  label  original frame  fold  dataset\n",
       "0           00000    0_0.png      0     00000     0    -1  celebdf\n",
       "1           00000  100_0.png      0     00000   100    -1  celebdf\n",
       "2           00000   10_0.png      0     00000    10    -1  celebdf\n",
       "3           00000  110_0.png      0     00000   110    -1  celebdf\n",
       "4           00000  120_0.png      0     00000   120    -1  celebdf\n",
       "..            ...        ...    ...       ...   ...   ...      ...\n",
       "182  id0_id1_0009  510_0.png      1  id0_0009   510    -1  celebdf\n",
       "183  id0_id1_0009   60_0.png      1  id0_0009    60    -1  celebdf\n",
       "184  id0_id1_0009   70_0.png      1  id0_0009    70    -1  celebdf\n",
       "185  id0_id1_0009   80_0.png      1  id0_0009    80    -1  celebdf\n",
       "186  id0_id1_0009   90_0.png      1  id0_0009    90    -1  celebdf\n",
       "\n",
       "[187 rows x 7 columns]"
      ]
     },
     "execution_count": 74,
     "metadata": {},
     "output_type": "execute_result"
    }
   ],
   "source": [
    "df = pd.DataFrame(data)\n",
    "df"
   ]
  },
  {
   "cell_type": "code",
   "execution_count": 75,
   "metadata": {},
   "outputs": [],
   "source": [
    "from sklearn import model_selection\n",
    "\n",
    "df[\"fold\"] = -1    \n",
    "df = df.sample(frac=1).reset_index(drop=True)\n",
    "y = df.label.values\n",
    "kf = model_selection.StratifiedKFold(n_splits=5)\n",
    "\n",
    "for f, (t_, v_) in enumerate(kf.split(X=df, y=y)):\n",
    "    df.loc[v_, 'fold'] = f\n",
    "\n",
    "df.to_csv(\"celebdf.csv\", index=False)"
   ]
  },
  {
   "cell_type": "markdown",
   "metadata": {},
   "source": [
    "CHECK"
   ]
  },
  {
   "cell_type": "code",
   "execution_count": 76,
   "metadata": {},
   "outputs": [
    {
     "name": "stdout",
     "output_type": "stream",
     "text": [
      "187\n",
      "187\n"
     ]
    }
   ],
   "source": [
    "ddf = pd.read_csv('celebdf.csv')\n",
    "print(len(ddf))\n",
    "\n",
    "for i, row in ddf.iterrows():\n",
    "    video, file, label, original, frame, fold, dataset = row\n",
    "    path = os.path.join(ROOT_DIR, dataset, \"face_crops\", video, file)\n",
    "    # if(video == \"deepfake_003_000\"):\n",
    "    #     print(path)\n",
    "    if os.path.exists(path) == False:\n",
    "        print(path)\n",
    "        ddf.drop(i, inplace = True)\n",
    "    # break\n",
    "print(len(ddf))"
   ]
  },
  {
   "cell_type": "code",
   "execution_count": 20,
   "metadata": {},
   "outputs": [],
   "source": [
    "ddf.to_csv(\"ffpp.csv\", index=False)"
   ]
  },
  {
   "cell_type": "code",
   "execution_count": 11,
   "metadata": {},
   "outputs": [],
   "source": [
    "from skimage.metrics import structural_similarity as compare_ssim\n",
    "\n",
    "dataframe = pd.read_csv('ffpp.csv')\n",
    "for i, row in dataframe.iterrows():\n",
    "    video, file, label, original, frame, fold, dataset = row\n",
    "    if label == 1:\n",
    "        fake_path = os.path.join(ROOT_DIR, dataset, \"face_crops\", video, file)\n",
    "        real_path = os.path.join(\"I:/DEEPFAKE/FF++/ff_data/face_crops\", original, file)\n",
    "\n",
    "        fake = cv2.imread(fake_path)\n",
    "        fake = cv2.cvtColor(fake, cv2.COLOR_BGR2RGB)\n",
    "\n",
    "        real = cv2.imread(real_path)\n",
    "        real = cv2.cvtColor(real, cv2.COLOR_BGR2RGB)\n",
    "        \n",
    "        d, a = compare_ssim(real, fake, multichannel=True, full=True)\n",
    "        a = 1 - a\n",
    "        diff = (a * 255).astype(np.uint8)\n",
    "        diff = cv2.cvtColor(diff, cv2.COLOR_BGR2GRAY)\n",
    "\n",
    "        diff_path = f\"train_data/ffpp/diffs/{video}\"\n",
    "        os.makedirs(diff_path, exist_ok=True)\n",
    "\n",
    "        cv2.imwrite(os.path.join(diff_path,file[:-4]+\"_diff.png\"), diff)\n",
    "\n",
    "        "
   ]
  }
 ],
 "metadata": {
  "interpreter": {
   "hash": "c37635652f2202170c5941e98822fbd066681d6607567fc23bb9a6fdd81ef1b6"
  },
  "kernelspec": {
   "display_name": "Python 3.8.8 64-bit ('base': conda)",
   "name": "python3"
  },
  "language_info": {
   "codemirror_mode": {
    "name": "ipython",
    "version": 3
   },
   "file_extension": ".py",
   "mimetype": "text/x-python",
   "name": "python",
   "nbconvert_exporter": "python",
   "pygments_lexer": "ipython3",
   "version": "3.8.8"
  },
  "orig_nbformat": 4
 },
 "nbformat": 4,
 "nbformat_minor": 2
}
